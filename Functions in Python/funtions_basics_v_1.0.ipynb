{
 "cells": [
  {
   "cell_type": "markdown",
   "metadata": {},
   "source": [
    "## Functions in Python\n"
   ]
  },
  {
   "cell_type": "code",
   "execution_count": null,
   "metadata": {},
   "outputs": [],
   "source": [
    "## Syntax of function\n",
    "\n",
    "def function_name(parameter):\n",
    "    \"\"\"docstring\"\"\"\n",
    "    # code\n",
    "    result=expression\n",
    "    return result\n",
    "\n",
    "#Calling Function\n",
    "function_name(pass the parameter)"
   ]
  },
  {
   "cell_type": "code",
   "execution_count": 2,
   "metadata": {},
   "outputs": [
    {
     "data": {
      "text/plain": [
       "'Odd'"
      ]
     },
     "execution_count": 2,
     "metadata": {},
     "output_type": "execute_result"
    }
   ],
   "source": [
    "## Example \n",
    "## Checking whether number is even or odd\n",
    "\n",
    "def even_odd(number): #Here number is parameter\n",
    "    if number % 2 == 0:\n",
    "        return \"Even\"\n",
    "    else :\n",
    "        return \"Odd\"\n",
    "    \n",
    "## Calling the function\n",
    "even_odd(7) ## here 7 is argument "
   ]
  },
  {
   "cell_type": "code",
   "execution_count": 3,
   "metadata": {},
   "outputs": [
    {
     "name": "stdout",
     "output_type": "stream",
     "text": [
      "11.5\n"
     ]
    }
   ],
   "source": [
    "def add(a,b):\n",
    "    return a+b\n",
    "\n",
    "result = add(4.5, 7)\n",
    "print(result)"
   ]
  },
  {
   "cell_type": "code",
   "execution_count": 7,
   "metadata": {},
   "outputs": [
    {
     "name": "stdout",
     "output_type": "stream",
     "text": [
      "Wassup!Guest Kya haalchal!\n"
     ]
    }
   ],
   "source": [
    "## Default Parameters\n",
    "\n",
    "def basic_function(name = \"Guest\"):\n",
    "     ## Giving default parameter as \"Guest\"\n",
    "    print(f\"Wassup!{name} Kya haalchal!\")\n",
    "\n",
    "basic_function()\n"
   ]
  },
  {
   "cell_type": "code",
   "execution_count": 11,
   "metadata": {},
   "outputs": [
    {
     "name": "stdout",
     "output_type": "stream",
     "text": [
      "[(3, 5, 6, 'Anmol', 6.9)]\n"
     ]
    }
   ],
   "source": [
    "## Variable Length parameters\n",
    "## positional arguments and keywords arguments\n",
    "## Postional arguments\n",
    "\n",
    "def positional_arg(*args):\n",
    "    for elements in args:\n",
    "        list=[]\n",
    "        list.append(args)\n",
    "\n",
    "        \n",
    "    print(list)\n",
    "    \n",
    "\n",
    "positional_arg(3, 5, 6, \"Anmol\", 6.9)\n",
    "\n",
    "\n",
    " \n"
   ]
  },
  {
   "cell_type": "code",
   "execution_count": 13,
   "metadata": {},
   "outputs": [
    {
     "name": "stdout",
     "output_type": "stream",
     "text": [
      "key:name, value:Anmol\n",
      "key:age, value:24\n",
      "key:college, value:ADYPSOE\n"
     ]
    }
   ],
   "source": [
    "## Keywords arguments\n",
    "## They are always in key value pair\n",
    "\n",
    "def keywords_arg(**key_args):\n",
    "    for key, value in key_args.items():\n",
    "        print(f\"key:{key}, value:{value}\")\n",
    "\n",
    "keywords_arg(name=\"Anmol\", age=24, college=\"ADYPSOE\")"
   ]
  },
  {
   "cell_type": "code",
   "execution_count": 14,
   "metadata": {},
   "outputs": [
    {
     "name": "stdout",
     "output_type": "stream",
     "text": [
      "key:name, value:Sania\n",
      "key:surname, value:Nehwal\n",
      "key:age, value:76\n",
      "[(1, 5, 'Anmol', 'Girase')]\n"
     ]
    }
   ],
   "source": [
    "## Merging both keywords and positional arguments\n",
    "## First specify all the positional args and then specify keywords args\n",
    "## As postional args cannot be after keywords args\n",
    "\n",
    "def arguments(*args, **keywords_arg):\n",
    "    for key, value in keywords_arg.items():\n",
    "        print(f\"key:{key}, value:{value}\")\n",
    "\n",
    "    for elements in args:\n",
    "        list=[]\n",
    "        list.append(args)\n",
    "\n",
    "        \n",
    "    print(list)\n",
    "              \n",
    "    \n",
    "arguments(1, 5, \"Anmol\", \"Girase\", name=\"Sania\", surname=\"Nehwal\", age = 76)"
   ]
  },
  {
   "cell_type": "code",
   "execution_count": 15,
   "metadata": {},
   "outputs": [
    {
     "data": {
      "text/plain": [
       "207"
      ]
     },
     "execution_count": 15,
     "metadata": {},
     "output_type": "execute_result"
    }
   ],
   "source": [
    "## Understanding the return statement\n",
    "\n",
    "def multiply(a,b):\n",
    "    return a*b\n",
    "\n",
    "multiply(9, 23)"
   ]
  },
  {
   "cell_type": "code",
   "execution_count": 16,
   "metadata": {},
   "outputs": [
    {
     "data": {
      "text/plain": [
       "(30, 5, 6, 11)"
      ]
     },
     "execution_count": 16,
     "metadata": {},
     "output_type": "execute_result"
    }
   ],
   "source": [
    "## We can multiple results\n",
    "\n",
    "def multiply(c,d):\n",
    "    return c*d, c, d, c+d\n",
    "\n",
    "multiply(5,6)"
   ]
  }
 ],
 "metadata": {
  "kernelspec": {
   "display_name": "venv",
   "language": "python",
   "name": "python3"
  },
  "language_info": {
   "codemirror_mode": {
    "name": "ipython",
    "version": 3
   },
   "file_extension": ".py",
   "mimetype": "text/x-python",
   "name": "python",
   "nbconvert_exporter": "python",
   "pygments_lexer": "ipython3",
   "version": "3.12.0"
  }
 },
 "nbformat": 4,
 "nbformat_minor": 2
}
