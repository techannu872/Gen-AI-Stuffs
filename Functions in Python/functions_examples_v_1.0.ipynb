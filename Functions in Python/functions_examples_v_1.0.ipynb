{
 "cells": [
  {
   "cell_type": "markdown",
   "metadata": {},
   "source": [
    "### Examples using functions concept\n"
   ]
  },
  {
   "cell_type": "code",
   "execution_count": 1,
   "metadata": {},
   "outputs": [
    {
     "name": "stdout",
     "output_type": "stream",
     "text": [
      "131.0\n",
      "55.0\n"
     ]
    }
   ],
   "source": [
    "## 1. To convert the temperature (from degree C to F and From F to degree C)\n",
    "\n",
    "def convert_temp(temp, unit):\n",
    "    if unit == 'C':\n",
    "        return (temp * 9/5) + 32\n",
    "    elif unit == 'F':\n",
    "        return (temp - 32) * 5/9\n",
    "    else:\n",
    "        return None\n",
    "\n",
    "print(convert_temp(55, 'C'))\n",
    "print(convert_temp(131, 'F'))\n"
   ]
  },
  {
   "cell_type": "code",
   "execution_count": 2,
   "metadata": {},
   "outputs": [
    {
     "data": {
      "text/plain": [
       "(True, 'Congratulations! Your password has passed the strength test!')"
      ]
     },
     "execution_count": 2,
     "metadata": {},
     "output_type": "execute_result"
    }
   ],
   "source": [
    "## 2. To check the strength of the password\n",
    "\n",
    "def password_strength(password):\n",
    "    if len(password) < 8:\n",
    "        return False, \"8 character wala password daaliye!\"\n",
    "    if not any (char.isdigit() for char in password):\n",
    "        return False, \" digit bhi daliye!\"\n",
    "    if not any (char.islower() for char in password):\n",
    "        return False, \" lower case bhi chaiye!\"\n",
    "    if not any (char.isupper() for char in password):\n",
    "        return False, \" upper case bhi chaiye!\"\n",
    "    if not any (char in '!@#$%^&+-_=' for char in password):\n",
    "        return False, \" special char bhi chaiye!\"\n",
    "    return True, \"Congratulations! Your password has passed the strength test!\"\n",
    "\n",
    "password_strength('Anmol!123')"
   ]
  },
  {
   "cell_type": "code",
   "execution_count": 3,
   "metadata": {},
   "outputs": [
    {
     "data": {
      "text/plain": [
       "('The total cost of items in cart is:', 870)"
      ]
     },
     "execution_count": 3,
     "metadata": {},
     "output_type": "execute_result"
    }
   ],
   "source": [
    "## 3. Calculate the total cost of the items in the cart\n",
    "\n",
    "def total_cost(cart):\n",
    "    total_cost=0\n",
    "    for items in cart:\n",
    "        total_cost += items['quantity'] * items['cost']\n",
    "        \n",
    "    return \"The total cost of items in cart is:\", total_cost\n",
    "    \n",
    "\n",
    "cart = [\n",
    "    {'name': 'apple', 'quantity':3, 'cost':46},\n",
    "    {'name': 'banana', 'quantity':24, 'cost':6},\n",
    "    {'name': 'mango', 'quantity':6, 'cost':65},\n",
    "    {'name': 'pineapple', 'quantity':2, 'cost':99},\n",
    "]\n",
    "\n",
    "total_cost(cart)\n"
   ]
  },
  {
   "cell_type": "code",
   "execution_count": 4,
   "metadata": {},
   "outputs": [
    {
     "name": "stdout",
     "output_type": "stream",
     "text": [
      "False\n",
      "True\n"
     ]
    }
   ],
   "source": [
    "## 4. Check the given string is palindrome or not\n",
    "\n",
    "def is_palindrome(s):\n",
    "    s = s.lower().replace(\" \", \"\")  # Convert string to lowercase and remove spaces\n",
    "    return s == s[::-1]  # Check if the string is equal to its reverse\n",
    "\n",
    "print(is_palindrome(\"anmol can run\"))  # Output: False\n",
    "print(is_palindrome(\"n u n\"))          # Output: True\n",
    "\n"
   ]
  },
  {
   "cell_type": "code",
   "execution_count": 5,
   "metadata": {},
   "outputs": [
    {
     "data": {
      "text/plain": [
       "5040"
      ]
     },
     "execution_count": 5,
     "metadata": {},
     "output_type": "execute_result"
    }
   ],
   "source": [
    "## 5. Find the factorial of the number using Recursion\n",
    "## Recursion - using function under the function\n",
    "\n",
    "def factorial(n):\n",
    "    if n == 0:\n",
    "        return 1\n",
    "    else:\n",
    "        return n * factorial(n-1)\n",
    "    \n",
    "factorial(7)"
   ]
  },
  {
   "cell_type": "code",
   "execution_count": 7,
   "metadata": {},
   "outputs": [
    {
     "name": "stdout",
     "output_type": "stream",
     "text": [
      "True\n",
      "False\n"
     ]
    }
   ],
   "source": [
    "## 6. Validate  the email address\n",
    "\n",
    "import re\n",
    "\n",
    "def validate_email(email):\n",
    "    pattern = r'^[a-zA-Z0-9_.+-]+@[a-zA-Z0-9-]+\\.[a-zA-Z0-9-.]+$'\n",
    "    return re.match(pattern, email) is not None\n",
    "\n",
    "\n",
    "print(validate_email('annu220703@gmail.com'))\n",
    "print(validate_email('Invalid-email'))\n",
    "\n"
   ]
  }
 ],
 "metadata": {
  "kernelspec": {
   "display_name": "venv",
   "language": "python",
   "name": "python3"
  },
  "language_info": {
   "codemirror_mode": {
    "name": "ipython",
    "version": 3
   },
   "file_extension": ".py",
   "mimetype": "text/x-python",
   "name": "python",
   "nbconvert_exporter": "python",
   "pygments_lexer": "ipython3",
   "version": "3.12.0"
  }
 },
 "nbformat": 4,
 "nbformat_minor": 2
}
