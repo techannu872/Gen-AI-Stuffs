{
 "cells": [
  {
   "cell_type": "markdown",
   "metadata": {},
   "source": [
    "### Examples using functions concept\n"
   ]
  },
  {
   "cell_type": "code",
   "execution_count": 5,
   "metadata": {},
   "outputs": [
    {
     "name": "stdout",
     "output_type": "stream",
     "text": [
      "131.0\n",
      "55.0\n"
     ]
    }
   ],
   "source": [
    "## 1. To convert the temperature (from degree C to F and From F to degree C)\n",
    "\n",
    "def convert_temp(temp, unit):\n",
    "    if unit == 'C':\n",
    "        return (temp * 9/5) + 32\n",
    "    elif unit == 'F':\n",
    "        return (temp - 32) * 5/9\n",
    "    else:\n",
    "        return None\n",
    "\n",
    "print(convert_temp(55, 'C'))\n",
    "print(convert_temp(131, 'F'))\n"
   ]
  },
  {
   "cell_type": "code",
   "execution_count": 12,
   "metadata": {},
   "outputs": [
    {
     "data": {
      "text/plain": [
       "(False, ' upper case bhi chaiye!')"
      ]
     },
     "execution_count": 12,
     "metadata": {},
     "output_type": "execute_result"
    }
   ],
   "source": [
    "## 2. To check the strength of the password\n",
    "\n",
    "def password_strength(password):\n",
    "    if len(password) < 8:\n",
    "        return False, \"8 character wala password daaliye!\"\n",
    "    if not any (char.isdigit() for char in password):\n",
    "        return False, \" digit bhi daliye!\"\n",
    "    if not any (char.islower() for char in password):\n",
    "        return False, \" lower case bhi chaiye!\"\n",
    "    if not any (char.isupper() for char in password):\n",
    "        return False, \" upper case bhi chaiye!\"\n",
    "    if not any (char in '!@#$%^&+-_=' for char in password):\n",
    "        return False, \" special char bhi chaiye!\"\n",
    "    return True, \"Congratulations! Your password has passed the strength test!\"\n",
    "\n",
    "password_strength('Anmol!123')"
   ]
  }
 ],
 "metadata": {
  "kernelspec": {
   "display_name": "venv",
   "language": "python",
   "name": "python3"
  },
  "language_info": {
   "codemirror_mode": {
    "name": "ipython",
    "version": 3
   },
   "file_extension": ".py",
   "mimetype": "text/x-python",
   "name": "python",
   "nbconvert_exporter": "python",
   "pygments_lexer": "ipython3",
   "version": "3.12.0"
  }
 },
 "nbformat": 4,
 "nbformat_minor": 2
}
