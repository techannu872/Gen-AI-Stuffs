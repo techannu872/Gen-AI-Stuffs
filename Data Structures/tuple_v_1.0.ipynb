{
 "cells": [
  {
   "cell_type": "code",
   "execution_count": 1,
   "metadata": {},
   "outputs": [
    {
     "name": "stdout",
     "output_type": "stream",
     "text": [
      "<class 'tuple'>\n",
      "('Anmol', 5, 'Simran', 2.67, True)\n"
     ]
    }
   ],
   "source": [
    "## Tuples are similar as List but  not same\n",
    "\n",
    "tuple = ('Anmol', 5, 'Simran', 2.67, True)\n",
    "print(type(tuple))\n",
    "print(tuple)"
   ]
  },
  {
   "cell_type": "code",
   "execution_count": 3,
   "metadata": {},
   "outputs": [
    {
     "name": "stdout",
     "output_type": "stream",
     "text": [
      "['Someone', 'Simran', 8, 9.0, False]\n",
      "[9, 'Simran', 8, 9.0, False]\n"
     ]
    }
   ],
   "source": [
    "## Tuples are immutable but lists are mutable\n",
    "\n",
    "list = ['Anmol', 'Simran', 8, 9.0, False]\n",
    "list[0]='Someone'\n",
    "print(list)\n",
    "\n",
    "list[0]=9\n",
    "print(list)"
   ]
  },
  {
   "cell_type": "code",
   "execution_count": 4,
   "metadata": {},
   "outputs": [
    {
     "name": "stdout",
     "output_type": "stream",
     "text": [
      "('Anmol', 3, 2, 8.0)\n"
     ]
    }
   ],
   "source": [
    "## Packing and Unpacking tuples\n",
    "\n",
    "## Packing\n",
    "random = \"Anmol\", 3, 2, 8.0 \n",
    "print(random)  ## By default the elements wihtout any braces is converted into the tuple\n"
   ]
  },
  {
   "cell_type": "code",
   "execution_count": 7,
   "metadata": {},
   "outputs": [
    {
     "name": "stdout",
     "output_type": "stream",
     "text": [
      "Anmol\n",
      "3\n",
      "2\n",
      "8.0\n"
     ]
    }
   ],
   "source": [
    "random\n",
    "\n",
    "a,b,c,d = random\n",
    "\n",
    "print(a)\n",
    "print(b) ##This is unpacking\n",
    "print(c)\n",
    "print(d)"
   ]
  },
  {
   "cell_type": "code",
   "execution_count": 10,
   "metadata": {},
   "outputs": [
    {
     "name": "stdout",
     "output_type": "stream",
     "text": [
      "Annu\n",
      "['Das', 9, 0, 6.8]\n",
      "Gorgi\n"
     ]
    }
   ],
   "source": [
    "## Unpacking with *\n",
    "\n",
    "tuple = (\"Annu\", \"Gorgi\", \"Das\", 9, 0, 6.8)\n",
    "x, z,  *y = tuple\n",
    "\n",
    "print(x)\n",
    "print(y)\n",
    "print(z)\n"
   ]
  },
  {
   "cell_type": "code",
   "execution_count": 11,
   "metadata": {},
   "outputs": [
    {
     "name": "stdout",
     "output_type": "stream",
     "text": [
      "2\n"
     ]
    }
   ],
   "source": [
    "## Nested tuples\n",
    "## Accessing the tuples\n",
    "\n",
    "nested_tuple = ((1, 2, 3), ('a', 's', 'f'), (True, False), (1.6, 2.5), ('abc'))\n",
    "\n",
    "print(nested_tuple[0][1]) ## It will print element 2 at 1st index of tuple 1"
   ]
  }
 ],
 "metadata": {
  "kernelspec": {
   "display_name": "Python 3",
   "language": "python",
   "name": "python3"
  },
  "language_info": {
   "codemirror_mode": {
    "name": "ipython",
    "version": 3
   },
   "file_extension": ".py",
   "mimetype": "text/x-python",
   "name": "python",
   "nbconvert_exporter": "python",
   "pygments_lexer": "ipython3",
   "version": "3.12.0"
  }
 },
 "nbformat": 4,
 "nbformat_minor": 2
}
