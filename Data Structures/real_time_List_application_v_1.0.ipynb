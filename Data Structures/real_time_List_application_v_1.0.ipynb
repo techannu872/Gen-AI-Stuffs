{
 "cells": [
  {
   "cell_type": "code",
   "execution_count": null,
   "metadata": {},
   "outputs": [],
   "source": []
  },
  {
   "cell_type": "markdown",
   "metadata": {},
   "source": [
    "### Applications of List\n"
   ]
  },
  {
   "cell_type": "code",
   "execution_count": 9,
   "metadata": {},
   "outputs": [
    {
     "name": "stdout",
     "output_type": "stream",
     "text": [
      "Name the task to be removed:['Go to bathroom', 'Have a breakfast', 'Completing the udemy module', 'Watching Kung fu panda 4 movie']\n",
      "You final list for today is\n",
      "-Go to bathroom\n",
      "-Have a breakfast\n",
      "-Watching Kung fu panda 4 movie\n"
     ]
    }
   ],
   "source": [
    "## To do list\n",
    "\n",
    "to_do_list = ['Go to bathroom', 'Have a breakfast', 'Completing the udemy module','Watching Kung fu panda 4 movie' ]\n",
    "\n",
    "select_option = int(input(\"Aapko Kya karna : 1. Add task  2.Remove task\"))\n",
    "\n",
    "if select_option == 1:\n",
    "    new_task = input(\"Enter new task:\")\n",
    "    to_do_list.append(new_task)\n",
    "else:\n",
    "    print(f\"Name the task to be removed:{to_do_list}\")\n",
    "    remove_task = str(input(\"Remove the existing task you want:\"))\n",
    "    to_do_list.remove(remove_task)\n",
    "\n",
    "print(\"You final list for today is\")\n",
    "for task in to_do_list:\n",
    "    print(f\"-{task}\")\n"
   ]
  },
  {
   "cell_type": "code",
   "execution_count": 11,
   "metadata": {},
   "outputs": [
    {
     "name": "stdout",
     "output_type": "stream",
     "text": [
      "Average Score:70.33333333333333\n",
      "Highest Score:99\n",
      "Lowest Score:34\n",
      "[56, 67, 88, 99, 34, 78]\n"
     ]
    }
   ],
   "source": [
    "## create and store the avg grade of the students\n",
    "\n",
    "student_grade = [56, 67, 88, 99, 34]\n",
    "grade = float(input(\"What you wanna do: 1. Update grade. 2. Remove grade\"))\n",
    "\n",
    "if grade == 1:\n",
    "    add_grade = int(input(\"Enter the grade:\"))\n",
    "    student_grade.append(add_grade)\n",
    "    avg_grade = sum(student_grade)/len(student_grade)\n",
    "    high_score = max(student_grade)\n",
    "    low_score = min(student_grade)\n",
    "    print(f\"Average Score:{avg_grade}\")\n",
    "    print(f\"Highest Score:{high_score}\")\n",
    "    print(f\"Lowest Score:{low_score}\")\n",
    "\n",
    "else:\n",
    "    print(\"No updation\")\n",
    "    print(\"The updated list of student's grade is:\")\n",
    "    for grade in student_grade:\n",
    "        print(f\"-{grade}\")\n",
    "\n",
    "print(student_grade)"
   ]
  }
 ],
 "metadata": {
  "kernelspec": {
   "display_name": "Python 3",
   "language": "python",
   "name": "python3"
  },
  "language_info": {
   "codemirror_mode": {
    "name": "ipython",
    "version": 3
   },
   "file_extension": ".py",
   "mimetype": "text/x-python",
   "name": "python",
   "nbconvert_exporter": "python",
   "pygments_lexer": "ipython3",
   "version": "3.12.0"
  }
 },
 "nbformat": 4,
 "nbformat_minor": 2
}
