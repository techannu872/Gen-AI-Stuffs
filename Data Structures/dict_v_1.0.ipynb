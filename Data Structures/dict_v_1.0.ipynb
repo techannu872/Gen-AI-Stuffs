{
 "cells": [
  {
   "cell_type": "code",
   "execution_count": 1,
   "metadata": {},
   "outputs": [
    {
     "name": "stdout",
     "output_type": "stream",
     "text": [
      "<class 'dict'>\n"
     ]
    }
   ],
   "source": [
    "empty_dict = {}\n",
    "print(type(empty_dict))"
   ]
  },
  {
   "cell_type": "code",
   "execution_count": 2,
   "metadata": {},
   "outputs": [
    {
     "name": "stdout",
     "output_type": "stream",
     "text": [
      "<class 'dict'>\n",
      "{'name': 'Anmol', 'marks': 55, 'age': 21}\n"
     ]
    }
   ],
   "source": [
    "student_dict = {\"name\" : \"Anmol\", \"marks\" : 55, \"age\" : 21}\n",
    "print(type(student_dict))\n",
    "print(student_dict)"
   ]
  },
  {
   "cell_type": "code",
   "execution_count": 3,
   "metadata": {},
   "outputs": [
    {
     "name": "stdout",
     "output_type": "stream",
     "text": [
      "{'name': 69, 'marks': 78}\n"
     ]
    }
   ],
   "source": [
    "student_dict = {\"name\": \"Sneha\", \"marks\" : 78, \"name\" : 69}\n",
    "print(student_dict)  #Value having same key, the most recent key-value pair will be printed."
   ]
  },
  {
   "cell_type": "code",
   "execution_count": 11,
   "metadata": {},
   "outputs": [
    {
     "name": "stdout",
     "output_type": "stream",
     "text": [
      "69\n",
      "The marks of student is 78\n"
     ]
    }
   ],
   "source": [
    "## Accessing the Dictionary elements\n",
    "student_dict = {\"name\": \"Sneha\", \"marks\" : 78, \"name\" : 69}\n",
    "print(student_dict['name'])\n",
    "print(f\"The marks of student is {student_dict['marks']}\")\n",
    "#print(student_dict['address']) #It will throw error"
   ]
  },
  {
   "cell_type": "code",
   "execution_count": 9,
   "metadata": {},
   "outputs": [
    {
     "name": "stdout",
     "output_type": "stream",
     "text": [
      "69\n",
      "None\n",
      "Female\n",
      "{'name': 69, 'marks': 78}\n"
     ]
    }
   ],
   "source": [
    "## Using get() method by dictionary\n",
    "student_dict = {\"name\": \"Sneha\", \"marks\" : 78, \"name\" : 69}\n",
    "print(student_dict.get('name'))\n",
    "print(student_dict.get('gender'))  # If key not present, it returns None value\n",
    "print(student_dict.get('gender', \"Female\"))\n",
    "print(student_dict)\n"
   ]
  },
  {
   "cell_type": "code",
   "execution_count": 13,
   "metadata": {},
   "outputs": [
    {
     "name": "stdout",
     "output_type": "stream",
     "text": [
      "{'name': 'Anmol', 'marks': 78, 'gender': 'Male'}\n"
     ]
    }
   ],
   "source": [
    "## Modifying the Dictionary\n",
    "student_dict = {\"name\": \"Sneha\", \"marks\" : 78, \"name\" : 69}\n",
    "student_dict['name'] = \"Anmol\" # Updating the value of existing key\n",
    "student_dict['gender'] = \"Male\" # adding the key-value pair\n",
    "\n",
    "print(student_dict)\n"
   ]
  },
  {
   "cell_type": "code",
   "execution_count": 21,
   "metadata": {},
   "outputs": [
    {
     "name": "stdout",
     "output_type": "stream",
     "text": [
      "{'name': 69}\n"
     ]
    }
   ],
   "source": [
    "## Deleting the dictionary \n",
    "student_dict = {\"name\": \"Sneha\", \"marks\" : 78, \"name\" : 69}\n",
    "del student_dict['marks']\n",
    "print(student_dict) #deleting the key value pair"
   ]
  },
  {
   "cell_type": "code",
   "execution_count": 22,
   "metadata": {},
   "outputs": [
    {
     "name": "stdout",
     "output_type": "stream",
     "text": [
      "dict_keys(['name', 'marks', 'age'])\n",
      "dict_values(['Anmol', 55, 21])\n",
      "dict_items([('name', 'Anmol'), ('marks', 55), ('age', 21)])\n"
     ]
    }
   ],
   "source": [
    "## To access the key, values and key-values list separately\n",
    "student_dict = {\"name\" : \"Anmol\", \"marks\" : 55, \"age\" : 21}\n",
    "\n",
    "keys = student_dict.keys() #return the list of keys\n",
    "values = student_dict.values() #return the list of values\n",
    "items = student_dict.items() #return the list of key-value pair\n",
    "\n",
    "print(keys)\n",
    "print(values)\n",
    "print(items)"
   ]
  },
  {
   "cell_type": "code",
   "execution_count": 23,
   "metadata": {},
   "outputs": [
    {
     "name": "stdout",
     "output_type": "stream",
     "text": [
      "{'name': 'Sakshi', 'marks': 55, 'age': 21}\n",
      "{'name': 'Sakshi', 'marks': 55, 'age': 21}\n"
     ]
    }
   ],
   "source": [
    "## shallow copy\n",
    "student_dict = {\"name\" : \"Anmol\", \"marks\" : 55, \"age\" : 21}\n",
    "student = student_dict\n",
    "\n",
    "student_dict['name'] = \"Sakshi\"\n",
    "\n",
    "print(student_dict)\n",
    "print(student)\n",
    "\n"
   ]
  },
  {
   "cell_type": "code",
   "execution_count": 24,
   "metadata": {},
   "outputs": [
    {
     "name": "stdout",
     "output_type": "stream",
     "text": [
      "{'name': 'Sonu', 'marks': 55, 'age': 21}\n",
      "{'name': 'Anmol', 'marks': 55, 'age': 21}\n"
     ]
    }
   ],
   "source": [
    "#to avoid above result we create the shallow copy\n",
    "student_dict = {\"name\" : \"Anmol\", \"marks\" : 55, \"age\" : 21}\n",
    "student = student_dict.copy()\n",
    "student_dict['name'] = \"Sonu\"\n",
    "\n",
    "print(student_dict)\n",
    "print(student)"
   ]
  },
  {
   "cell_type": "code",
   "execution_count": 25,
   "metadata": {},
   "outputs": [
    {
     "name": "stdout",
     "output_type": "stream",
     "text": [
      "Key: name, Value: Anmol\n",
      "Key: marks, Value: 55\n",
      "Key: age, Value: 21\n"
     ]
    }
   ],
   "source": [
    "## Iterating over the dictionaries, keys, values, key-values pair\n",
    "## Iterating over the dictionaries\n",
    "\n",
    "student_dict = {\"name\" : \"Anmol\", \"marks\" : 55, \"age\" : 21}\n",
    "for keys,values in student_dict.items():\n",
    "    print(f\"Key: {keys}, Value: {values}\")\n",
    "\n"
   ]
  },
  {
   "cell_type": "code",
   "execution_count": 26,
   "metadata": {},
   "outputs": [
    {
     "name": "stdout",
     "output_type": "stream",
     "text": [
      "name\n",
      "marks\n",
      "age\n"
     ]
    }
   ],
   "source": [
    "## Iterating over the keys\n",
    "\n",
    "student_dict = {\"name\" : \"Anmol\", \"marks\" : 55, \"age\" : 21}\n",
    "for key in student_dict.keys():\n",
    "    print(key)"
   ]
  },
  {
   "cell_type": "code",
   "execution_count": 27,
   "metadata": {},
   "outputs": [
    {
     "name": "stdout",
     "output_type": "stream",
     "text": [
      "Anmol\n",
      "55\n",
      "21\n"
     ]
    }
   ],
   "source": [
    "## Iterating over the values\n",
    "for value in student_dict.values():\n",
    "    print(value)"
   ]
  },
  {
   "cell_type": "code",
   "execution_count": 28,
   "metadata": {},
   "outputs": [
    {
     "name": "stdout",
     "output_type": "stream",
     "text": [
      "{'student_1': {'name': 'Iron Man', 'age': 89}, 'student_2': {'name': 'Captain America', 'age': 104}}\n"
     ]
    }
   ],
   "source": [
    "## Nested Dictionaries\n",
    "\n",
    "nested_dict = {\n",
    "    \"student_1\" :{\"name\" : \"Iron Man\", \"age\" : 89},\n",
    "    \"student_2\" :{\"name\" : \"Captain America\", \"age\" : 104}\n",
    "}\n",
    "\n",
    "print(nested_dict)"
   ]
  },
  {
   "cell_type": "code",
   "execution_count": 29,
   "metadata": {},
   "outputs": [
    {
     "name": "stdout",
     "output_type": "stream",
     "text": [
      "Iron Man\n",
      "104\n"
     ]
    }
   ],
   "source": [
    "## Accessing the nested dictionaries\n",
    "\n",
    "nested_dict = {\n",
    "    \"student_1\" :{\"name\" : \"Iron Man\", \"age\" : 89},\n",
    "    \"student_2\" :{\"name\" : \"Captain America\", \"age\" : 104}\n",
    "}\n",
    "\n",
    "print(nested_dict['student_1']['name']) #print the name value in student 1\n",
    "print(nested_dict[\"student_2\"]['age']) #print the age value in student 2\n"
   ]
  },
  {
   "cell_type": "code",
   "execution_count": 32,
   "metadata": {},
   "outputs": [
    {
     "name": "stdout",
     "output_type": "stream",
     "text": [
      "student_1:{'name': 'Iron Man', 'age': 89}\n",
      "name:Iron Man\n",
      "age:89\n",
      "student_2:{'name': 'Captain America', 'age': 104}\n",
      "name:Captain America\n",
      "age:104\n"
     ]
    }
   ],
   "source": [
    "## Iterating over the nested dictionaries\n",
    "nested_dict = {\n",
    "    \"student_1\" :{\"name\" : \"Iron Man\", \"age\" : 89},\n",
    "    \"student_2\" :{\"name\" : \"Captain America\", \"age\" : 104}\n",
    "}\n",
    "\n",
    "\n",
    "for student1_info, student2_info in nested_dict.items():\n",
    "    print(f\"{student1_info}:{student2_info}\")\n",
    "    for key, value in student2_info.items():\n",
    "        print(f\"{key}:{value}\")"
   ]
  },
  {
   "cell_type": "code",
   "execution_count": 1,
   "metadata": {},
   "outputs": [
    {
     "name": "stdout",
     "output_type": "stream",
     "text": [
      "{0: 0, 2: 4, 4: 16, 6: 36, 8: 64}\n"
     ]
    }
   ],
   "source": [
    "## Comprehensive Dictionary\n",
    "square = {x:x**2 for x in range(9) if x%2 == 0}\n",
    "print(square)"
   ]
  },
  {
   "cell_type": "code",
   "execution_count": 4,
   "metadata": {},
   "outputs": [
    {
     "name": "stdout",
     "output_type": "stream",
     "text": [
      "{1: 3, 3: 2, 2: 1, 4: 2, 5: 1}\n"
     ]
    }
   ],
   "source": [
    "## Practical eg\n",
    "## Use the dictionary to count the frequency of elements in the list\n",
    "\n",
    "numbers = [1, 1, 3, 1, 3, 2, 4, 4, 5]\n",
    "frequency = {}\n",
    "\n",
    "for number in numbers:\n",
    "    if number in frequency:\n",
    "        frequency[number]+=1\n",
    "    else:\n",
    "        frequency[number]=1\n",
    "\n",
    "print(frequency)"
   ]
  },
  {
   "cell_type": "code",
   "execution_count": 11,
   "metadata": {},
   "outputs": [
    {
     "name": "stdout",
     "output_type": "stream",
     "text": [
      "{'d': 2, 'b': 5, 'a': 4, 'c': 6}\n"
     ]
    }
   ],
   "source": [
    "## To merge the dictionaries\n",
    "\n",
    "dict_1 = {\"d\":2, \"b\":5}\n",
    "dict_2 = {\"a\":4, \"c\":6}\n",
    "merge_dict = {**dict_1, **dict_2}\n",
    "print(merge_dict)\n",
    "\n"
   ]
  },
  {
   "cell_type": "code",
   "execution_count": 12,
   "metadata": {},
   "outputs": [
    {
     "name": "stdout",
     "output_type": "stream",
     "text": [
      "{'a': 4, 'b': 5, 'c': 6}\n"
     ]
    }
   ],
   "source": [
    "dict_1 = {\"a\":2, \"b\":5}\n",
    "dict_2 = {\"a\":4, \"c\":6}\n",
    "merge_dict = {**dict_1, **dict_2}\n",
    "print(merge_dict)"
   ]
  }
 ],
 "metadata": {
  "kernelspec": {
   "display_name": "Python 3",
   "language": "python",
   "name": "python3"
  },
  "language_info": {
   "codemirror_mode": {
    "name": "ipython",
    "version": 3
   },
   "file_extension": ".py",
   "mimetype": "text/x-python",
   "name": "python",
   "nbconvert_exporter": "python",
   "pygments_lexer": "ipython3",
   "version": "3.12.0"
  }
 },
 "nbformat": 4,
 "nbformat_minor": 2
}
