{
 "cells": [
  {
   "cell_type": "code",
   "execution_count": 62,
   "metadata": {},
   "outputs": [],
   "source": [
    "## Lists concept\n",
    "## Lists are mutable and can store multiple data types\n"
   ]
  },
  {
   "cell_type": "code",
   "execution_count": 69,
   "metadata": {},
   "outputs": [
    {
     "name": "stdout",
     "output_type": "stream",
     "text": [
      "['Anmol', 'Ajay', 'Sonal', 'Sakshi', 'Yash']\n"
     ]
    }
   ],
   "source": [
    "list =[\"Anmol\", \"Ajay\", \"Sonal\", \"Sakshi\", \"Yash\"]\n",
    "print(list)"
   ]
  },
  {
   "cell_type": "code",
   "execution_count": 64,
   "metadata": {},
   "outputs": [
    {
     "name": "stdout",
     "output_type": "stream",
     "text": [
      "['Anmol', 8, 5.98, True]\n",
      "<class 'str'>\n"
     ]
    }
   ],
   "source": [
    "list1 = [\"Anmol\", 8, 5.98, True]\n",
    "print(list1)\n",
    "print(type(list1[0]))"
   ]
  },
  {
   "cell_type": "code",
   "execution_count": 65,
   "metadata": {},
   "outputs": [],
   "source": [
    "## Accessing the list"
   ]
  },
  {
   "cell_type": "code",
   "execution_count": 66,
   "metadata": {},
   "outputs": [
    {
     "name": "stdout",
     "output_type": "stream",
     "text": [
      "['Mango', 'Apple', 'Banana', 'Pineapple', 'Watermelon']\n",
      "Mango\n",
      "['Mango', 'Apple', 'Banana', 'Pineapple', 'Watermelon']\n",
      "['Apple', 'Banana']\n",
      "['Mango', 'Apple', 'Banana', 'Pineapple', 'Watermelon']\n",
      "Watermelon\n"
     ]
    }
   ],
   "source": [
    "list2 = [\"Mango\", \"Apple\", \"Banana\", \"Pineapple\",\"Watermelon\"]\n",
    "\n",
    "print(list2)\n",
    "print(list2[0])\n",
    "print(list2[0:])\n",
    "print(list2[1:3])\n",
    "print(list2[:5])\n",
    "print(list2[-1])"
   ]
  },
  {
   "cell_type": "code",
   "execution_count": 67,
   "metadata": {},
   "outputs": [
    {
     "name": "stdout",
     "output_type": "stream",
     "text": [
      "['Apple', 'Watermelon', 'Kiwi']\n"
     ]
    }
   ],
   "source": [
    "## Modify list elements\n",
    "\n",
    "list3 = [\"Apple\",\"Mango\", \"Kiwi\"]\n",
    "\n",
    "list3[1] = \"Watermelon\"\n",
    "\n",
    "print(list3)"
   ]
  },
  {
   "cell_type": "code",
   "execution_count": 70,
   "metadata": {},
   "outputs": [
    {
     "name": "stdout",
     "output_type": "stream",
     "text": [
      "['Apple', 'w', 'a', 't', 'e', 'r', 'm', 'e', 'l', 'o', 'n']\n"
     ]
    }
   ],
   "source": [
    "list3 = [\"Apple\",\"Mango\", \"Kiwi\"]\n",
    "list3[1:] = \"watermelon\"\n",
    "print(list3)"
   ]
  },
  {
   "cell_type": "code",
   "execution_count": 71,
   "metadata": {},
   "outputs": [
    {
     "name": "stdout",
     "output_type": "stream",
     "text": [
      "['Mango', 'Apple', 'Banana', 'Pineapple', 'Watermelon', 'Orange']\n"
     ]
    }
   ],
   "source": [
    "## List Methods\n",
    "## append\n",
    "list2 = [\"Mango\", \"Apple\", \"Banana\", \"Pineapple\",\"Watermelon\"]\n",
    "list2.append(\"Orange\")\n",
    "print(list2)"
   ]
  },
  {
   "cell_type": "code",
   "execution_count": 61,
   "metadata": {},
   "outputs": [
    {
     "name": "stdout",
     "output_type": "stream",
     "text": [
      "['Mango', 'Apple', 'Banana', 'Pineapple', 'Strawberry', 'Watermelon']\n"
     ]
    }
   ],
   "source": [
    "## insert\n",
    "\n",
    "list2 = [\"Mango\", \"Apple\", \"Banana\", \"Pineapple\",\"Watermelon\"]\n",
    "list2.insert(4, \"Strawberry\")\n",
    "print(list2)"
   ]
  },
  {
   "cell_type": "code",
   "execution_count": 63,
   "metadata": {},
   "outputs": [
    {
     "name": "stdout",
     "output_type": "stream",
     "text": [
      "['Mango', 'Apple', 'Banana', 'Pineapple', 'Watermelon', 'Mango']\n",
      "['Apple', 'Banana', 'Pineapple', 'Watermelon', 'Mango']\n"
     ]
    }
   ],
   "source": [
    "## remove ##Removes firstly occured element\n",
    "\n",
    "\n",
    "list2 = [\"Mango\", \"Apple\", \"Banana\", \"Pineapple\",\"Watermelon\"]\n",
    "list2.append(\"Mango\")\n",
    "print(list2)\n",
    "\n",
    "list2.remove(\"Mango\")\n",
    "print(list2)"
   ]
  },
  {
   "cell_type": "code",
   "execution_count": 68,
   "metadata": {},
   "outputs": [
    {
     "name": "stdout",
     "output_type": "stream",
     "text": [
      "Watermelon\n",
      "['Mango', 'Apple', 'Banana', 'Pineapple']\n"
     ]
    }
   ],
   "source": [
    "#To remove and return the element\n",
    "\n",
    "\n",
    "list2 = [\"Mango\", \"Apple\", \"Banana\", \"Pineapple\",\"Watermelon\"]\n",
    "print(list2.pop())\n",
    "print(list2)"
   ]
  },
  {
   "cell_type": "code",
   "execution_count": 75,
   "metadata": {},
   "outputs": [
    {
     "name": "stdout",
     "output_type": "stream",
     "text": [
      "['Aniket', 'Devyani', 'Rahul', 'Rawate', 'Sankalp', 'Sujeet']\n",
      "['Devyani', 'Rahul', 'Rawate']\n",
      "['Anmol', 'Aniket', 'Devyani', 'Rahul', 'Rawate', 'Sankalp']\n",
      "['Anmol', 'Rahul', 'Sujeet']\n",
      "['Sujeet', 'Rawate', 'Devyani', 'Anmol']\n"
     ]
    }
   ],
   "source": [
    "## Slicing the lists\n",
    "\n",
    "list = [\"Anmol\", \"Aniket\", \"Devyani\", \"Rahul\", \"Rawate\", \"Sankalp\", \"Sujeet\"]\n",
    "print(list[1:])\n",
    "print(list[2:5])\n",
    "print(list[:6])\n",
    "print(list[::3]) ##This doouble colon method determines the step size\n",
    "print(list[::-2])"
   ]
  },
  {
   "cell_type": "code",
   "execution_count": 76,
   "metadata": {},
   "outputs": [
    {
     "name": "stdout",
     "output_type": "stream",
     "text": [
      "Anmol\n",
      "Aniket\n",
      "Devyani\n",
      "Rahul\n",
      "Rawate\n",
      "Sankalp\n",
      "Sujeet\n"
     ]
    }
   ],
   "source": [
    "## Iterating over list\n",
    "\n",
    "list = [\"Anmol\", \"Aniket\", \"Devyani\", \"Rahul\", \"Rawate\", \"Sankalp\", \"Sujeet\"]\n",
    "\n",
    "for names in list:\n",
    "    print(names)"
   ]
  },
  {
   "cell_type": "code",
   "execution_count": 78,
   "metadata": {},
   "outputs": [
    {
     "name": "stdout",
     "output_type": "stream",
     "text": [
      "Index: 0, Name:Anmol\n",
      "Index: 1, Name:Aniket\n",
      "Index: 2, Name:Devyani\n",
      "Index: 3, Name:Rahul\n",
      "Index: 4, Name:Rawate\n",
      "Index: 5, Name:Sankalp\n",
      "Index: 6, Name:Sujeet\n"
     ]
    }
   ],
   "source": [
    "## Iterating over list with index\n",
    "\n",
    "list = [\"Anmol\", \"Aniket\", \"Devyani\", \"Rahul\", \"Rawate\", \"Sankalp\", \"Sujeet\"]\n",
    "\n",
    "for index,names in enumerate(list): #enumrate is the built in method to print the elements of list wit index\n",
    "    print(f\"Index: {index}, Name:{names}\")"
   ]
  },
  {
   "cell_type": "code",
   "execution_count": 79,
   "metadata": {},
   "outputs": [
    {
     "name": "stdout",
     "output_type": "stream",
     "text": [
      "[0, 1, 8, 27, 64, 125, 216, 343, 512, 729]\n"
     ]
    }
   ],
   "source": [
    "## List comprehension\n",
    "\n",
    "list = []\n",
    "\n",
    "for x in range(10):\n",
    "    list.append(x**3)\n",
    "\n",
    "print(list)"
   ]
  },
  {
   "cell_type": "code",
   "execution_count": 80,
   "metadata": {},
   "outputs": [
    {
     "data": {
      "text/plain": [
       "[0, 1, 8, 27, 64, 125, 216, 343, 512, 729]"
      ]
     },
     "execution_count": 80,
     "metadata": {},
     "output_type": "execute_result"
    }
   ],
   "source": [
    "## bY using list comprehension\n",
    "\n",
    "[x**3 for x in range(10)]"
   ]
  },
  {
   "cell_type": "markdown",
   "metadata": {},
   "source": [
    "#### List Comprehension\n",
    "\n",
    "basic syntax - [expression for item in iterable]\n",
    "conditional syntax - [expression for item in iterable if condition]\n",
    "nested list comprehension - [expression for item1 in iterable for item2 in iterable]\n"
   ]
  },
  {
   "cell_type": "code",
   "execution_count": 83,
   "metadata": {},
   "outputs": [
    {
     "name": "stdout",
     "output_type": "stream",
     "text": [
      "[0, 2, 4, 6, 8]\n"
     ]
    }
   ],
   "source": [
    "## List comprehension usind conditional statements\n",
    "\n",
    "list = []\n",
    "for i in range(10):\n",
    "    if i%2 == 0:\n",
    "        list.append(i)\n",
    "\n",
    "print(list)"
   ]
  },
  {
   "cell_type": "code",
   "execution_count": 84,
   "metadata": {},
   "outputs": [
    {
     "name": "stdout",
     "output_type": "stream",
     "text": [
      "[0, 2, 4, 6, 8]\n"
     ]
    }
   ],
   "source": [
    "## Now using list comprehension\n",
    "\n",
    "even_numbers=[i for i in range(10) if i%2 == 0]\n",
    "\n",
    "print(even_numbers)"
   ]
  },
  {
   "cell_type": "code",
   "execution_count": 90,
   "metadata": {},
   "outputs": [
    {
     "name": "stdout",
     "output_type": "stream",
     "text": [
      "[(1, 'a'), (1, 'b'), (1, 'c'), (1, 'd'), (1, 'e'), (2, 'a'), (2, 'b'), (2, 'c'), (2, 'd'), (2, 'e'), (3, 'a'), (3, 'b'), (3, 'c'), (3, 'd'), (3, 'e'), (4, 'a'), (4, 'b'), (4, 'c'), (4, 'd'), (4, 'e'), (5, 'a'), (5, 'b'), (5, 'c'), (5, 'd'), (5, 'e')]\n"
     ]
    }
   ],
   "source": [
    "## Nested list comprehension\n",
    "\n",
    "list1 = [1, 2, 3, 4, 5]\n",
    "list2 = ['a', 'b', 'c', 'd', 'e']\n",
    "list3 = []\n",
    "\n",
    "for i in list1:\n",
    "    for j in list2:\n",
    "        b=(i,j)\n",
    "        list3.append(b)\n",
    "\n",
    "print(list3)"
   ]
  },
  {
   "cell_type": "code",
   "execution_count": 91,
   "metadata": {},
   "outputs": [
    {
     "name": "stdout",
     "output_type": "stream",
     "text": [
      "[(1, 'a'), (1, 'b'), (1, 'c'), (1, 'd'), (1, 'e'), (2, 'a'), (2, 'b'), (2, 'c'), (2, 'd'), (2, 'e'), (3, 'a'), (3, 'b'), (3, 'c'), (3, 'd'), (3, 'e'), (4, 'a'), (4, 'b'), (4, 'c'), (4, 'd'), (4, 'e'), (5, 'a'), (5, 'b'), (5, 'c'), (5, 'd'), (5, 'e')]\n"
     ]
    }
   ],
   "source": [
    "## Using nested list comprehension\n",
    "\n",
    "list1 = [1, 2, 3, 4, 5]\n",
    "list2 = ['a', 'b', 'c', 'd', 'e']\n",
    "\n",
    "list3 = [(i,j) for i in list1 for j in list2]\n",
    "\n",
    "print(list3)"
   ]
  }
 ],
 "metadata": {
  "kernelspec": {
   "display_name": "Python 3",
   "language": "python",
   "name": "python3"
  },
  "language_info": {
   "codemirror_mode": {
    "name": "ipython",
    "version": 3
   },
   "file_extension": ".py",
   "mimetype": "text/x-python",
   "name": "python",
   "nbconvert_exporter": "python",
   "pygments_lexer": "ipython3",
   "version": "3.12.0"
  }
 },
 "nbformat": 4,
 "nbformat_minor": 2
}
