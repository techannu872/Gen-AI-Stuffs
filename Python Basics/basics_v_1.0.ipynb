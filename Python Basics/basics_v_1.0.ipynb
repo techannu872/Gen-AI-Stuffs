{
 "cells": [
  {
   "cell_type": "code",
   "execution_count": 1,
   "metadata": {},
   "outputs": [
    {
     "name": "stdout",
     "output_type": "stream",
     "text": [
      "The Total using backslash feature is : 175\n"
     ]
    }
   ],
   "source": [
    "##Line Continuation using ( \\ ) backslash\n",
    "\n",
    "total = 2 + 3 + 5 + 0 + 11\\\n",
    "+67 + 87\n",
    "\n",
    "print(\"The Total using backslash feature is :\", total)"
   ]
  },
  {
   "cell_type": "code",
   "execution_count": 4,
   "metadata": {},
   "outputs": [
    {
     "name": "stdout",
     "output_type": "stream",
     "text": [
      "-42\n"
     ]
    }
   ],
   "source": [
    "## Multiple syntax/statements\n",
    "x = 14; y = 56; z = x-y\n",
    "\n",
    "print(z)"
   ]
  }
 ],
 "metadata": {
  "kernelspec": {
   "display_name": "Python 3",
   "language": "python",
   "name": "python3"
  },
  "language_info": {
   "codemirror_mode": {
    "name": "ipython",
    "version": 3
   },
   "file_extension": ".py",
   "mimetype": "text/x-python",
   "name": "python",
   "nbconvert_exporter": "python",
   "pygments_lexer": "ipython3",
   "version": "3.12.0"
  }
 },
 "nbformat": 4,
 "nbformat_minor": 2
}
