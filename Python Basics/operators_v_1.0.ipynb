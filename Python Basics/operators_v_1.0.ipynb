{
 "cells": [
  {
   "cell_type": "code",
   "execution_count": 3,
   "metadata": {},
   "outputs": [
    {
     "data": {
      "text/plain": [
       "False"
      ]
     },
     "execution_count": 3,
     "metadata": {},
     "output_type": "execute_result"
    }
   ],
   "source": [
    "## Logical Operators\n",
    "## AND operator\n",
    "\n",
    "a = True\n",
    "b = False\n",
    "\n",
    "a and b"
   ]
  },
  {
   "cell_type": "code",
   "execution_count": 4,
   "metadata": {},
   "outputs": [
    {
     "data": {
      "text/plain": [
       "True"
      ]
     },
     "execution_count": 4,
     "metadata": {},
     "output_type": "execute_result"
    }
   ],
   "source": [
    "## OR operator\n",
    "\n",
    "a = True\n",
    "b = False\n",
    "\n",
    "a or b"
   ]
  },
  {
   "cell_type": "code",
   "execution_count": 6,
   "metadata": {},
   "outputs": [
    {
     "name": "stdout",
     "output_type": "stream",
     "text": [
      "False\n",
      "True\n"
     ]
    }
   ],
   "source": [
    "## NOT Operator\n",
    "\n",
    "a = True\n",
    "b = False\n",
    "\n",
    "print(not a)\n",
    "print(not b) "
   ]
  },
  {
   "cell_type": "code",
   "execution_count": 7,
   "metadata": {},
   "outputs": [
    {
     "name": "stdout",
     "output_type": "stream",
     "text": [
      "1. Addition:  8.0\n",
      "2. Substraction:  2.0\n",
      "3. Multiplication:  15.0\n",
      "4. Division:  1.6666666666666667\n",
      "5. Floor Division:  1.0\n",
      "6. Remainder:  2.0\n",
      "7. Exponential:  125.0\n"
     ]
    }
   ],
   "source": [
    "## Simple Calculator\n",
    "\n",
    "num1 = float(input(\"Enter the no.1: \"))\n",
    "num2 = float(input(\"Enter the no.2: \"))\n",
    "\n",
    "sum = num1 + num2\n",
    "difference = num1 - num2 \n",
    "product = num1 * num2\n",
    "quotient = num1 / num2\n",
    "floor_division = num1 // num2 \n",
    "modulus_division = num1 % num2\n",
    "exponent = num1 ** num2\n",
    "\n",
    "print(\"1. Addition: \", sum)\n",
    "print(\"2. Substraction: \", difference)\n",
    "print(\"3. Multiplication: \", product)\n",
    "print(\"4. Division: \", quotient)\n",
    "print(\"5. Floor Division: \", floor_division)\n",
    "print(\"6. Remainder: \", modulus_division)\n",
    "print(\"7. Exponential: \", exponent)\n"
   ]
  }
 ],
 "metadata": {
  "kernelspec": {
   "display_name": "Python 3",
   "language": "python",
   "name": "python3"
  },
  "language_info": {
   "codemirror_mode": {
    "name": "ipython",
    "version": 3
   },
   "file_extension": ".py",
   "mimetype": "text/x-python",
   "name": "python",
   "nbconvert_exporter": "python",
   "pygments_lexer": "ipython3",
   "version": "3.12.0"
  }
 },
 "nbformat": 4,
 "nbformat_minor": 2
}
