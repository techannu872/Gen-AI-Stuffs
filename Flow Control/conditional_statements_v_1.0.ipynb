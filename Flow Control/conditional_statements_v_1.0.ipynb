{
 "cells": [
  {
   "cell_type": "code",
   "execution_count": null,
   "metadata": {},
   "outputs": [],
   "source": [
    "## Applying Nested If Else statements\n",
    "## taking the input from the user and deciding whether its odd, even, negative\n",
    "\n",
    "num = int(input(\"Apne Pasand ka no. daalo: \"))\n",
    "\n",
    "if num % 2 == 0:\n",
    "    print(\"Aapke dwara daala gaya no. even hai!\")\n",
    "    if num >= 1:\n",
    "        print(\"Aapke dwara daala gaya no. positive bhi hai\")\n",
    "    elif num < 0:\n",
    "        print(\"Aapke dwara daala gaya no. negative hai!\")\n",
    "    else :\n",
    "        print(\"The no. is Zero \", num)\n",
    "\n",
    "else :\n",
    "    print(\"Aapke dwara daala gaya no. odd hai!\")\n",
    "    if num >= 1:\n",
    "        print(\"Aapke dwara daala gaya no. positive bhi hai\")\n",
    "    elif num < 0:\n",
    "        print(\"Aapke dwara daala gaya no. negative hai!\")\n",
    "    else :\n",
    "        print(\"The no. is Zero \", num)"
   ]
  }
 ],
 "metadata": {
  "kernelspec": {
   "display_name": "Python 3",
   "language": "python",
   "name": "python3"
  },
  "language_info": {
   "name": "python",
   "version": "3.12.0"
  }
 },
 "nbformat": 4,
 "nbformat_minor": 2
}
